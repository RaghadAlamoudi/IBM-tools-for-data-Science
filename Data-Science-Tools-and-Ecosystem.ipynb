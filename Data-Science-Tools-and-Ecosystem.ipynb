{
 "cells": [
  {
   "cell_type": "markdown",
   "metadata": {},
   "source": [
    "<center>\n",
    "    <img src=\"https://cf-courses-data.s3.us.cloud-object-storage.appdomain.cloud/IBMDeveloperSkillsNetwork-DS0105EN-SkillsNetwork/labs/Module2/images/SN_web_lightmode.png\" width=\"300\" alt=\"cognitiveclass.ai logo\">\n",
    "</center>\n"
   ]
  },
  {
   "cell_type": "markdown",
   "metadata": {},
   "source": [
    "# Data Science Tools and Ecosystem"
   ]
  },
  {
   "cell_type": "markdown",
   "metadata": {
    "tags": []
   },
   "source": [
    "In this notebook, Data Science Tools and Ecosystem are summarized."
   ]
  },
  {
   "cell_type": "markdown",
   "metadata": {},
   "source": [
    "Some of the popular languages that Data Scientists use are:\n",
    "\n",
    "1. Python.\n",
    "2. R.\n",
    "3. SQL.\n",
    "4. Java.\n",
    "5. Julia.\n",
    "6. Scala.\n",
    "7. C/C++.\n",
    "8. JavaScript.\n",
    "9. PHP\n",
    "10. Visual Basic"
   ]
  },
  {
   "cell_type": "markdown",
   "metadata": {},
   "source": [
    "Some of the commonly used libraries used by Data Scientists include:\n",
    "\n",
    "1. TensorFlow.\n",
    "2. NumPy.\n",
    "3. SciPy.\n",
    "4. Pandas.\n",
    "5. Matplotlib.\n",
    "6. Keras.\n",
    "7. SciKit-Learn.\n",
    "8. PyTorch.\n",
    "9. Vegas.\n",
    "10. Ggplot2."
   ]
  },
  {
   "cell_type": "markdown",
   "metadata": {
    "jp-MarkdownHeadingCollapsed": true,
    "tags": []
   },
   "source": [
    "\n",
    "\n",
    "\n",
    "| Data Science Tools | \n",
    "| ------------------ |\n",
    "|Jupyter Notebooks   |\n",
    "|Spyder              |\n",
    "|Anaconda            |\n",
    "|R Studio            |\n",
    "|Zeppelin            |\n"
   ]
  },
  {
   "cell_type": "markdown",
   "metadata": {},
   "source": [
    "#### Below are a few examples of evaluating arithmetic expressions in Python"
   ]
  },
  {
   "cell_type": "code",
   "execution_count": 11,
   "metadata": {},
   "outputs": [
    {
     "name": "stdout",
     "output_type": "stream",
     "text": [
      "The sum of 5.2 and 4 is 9.2\n",
      "The subtraction of 5.2 and 4 is 1.2000000000000002\n",
      "The multiplication  of 5.2 and 4 is 20.8\n",
      "The division of 5.2 and 4 is 1.3\n"
     ]
    }
   ],
   "source": [
    "num1 = 5.2\n",
    "num2 = 4\n",
    "\n",
    "# Summation\n",
    "sum = float(num1) + float(num2)\n",
    "\n",
    "# Subtraction\n",
    "min = float(num1) - float(num2)\n",
    "\n",
    "# Multiplication\n",
    "mul = float(num1) * float(num2)\n",
    "\n",
    "# Division\n",
    "div = float(num1) / float(num2)\n",
    "\n",
    "# Sum Result \n",
    "print(f'The sum of {num1} and {num2} is {sum}')\n",
    "\n",
    "# Subtraction Result\n",
    "print(f'The subtraction of {num1} and {num2} is {min}')\n",
    "\n",
    "# Multiplication Result\n",
    "print(f'The multiplication  of {num1} and {num2} is {mul}')\n",
    "\n",
    "# Division Result\n",
    "print(f'The division of {num1} and {num2} is {div}')"
   ]
  },
  {
   "cell_type": "code",
   "execution_count": 4,
   "metadata": {},
   "outputs": [
    {
     "data": {
      "text/plain": [
       "22"
      ]
     },
     "execution_count": 4,
     "metadata": {},
     "output_type": "execute_result"
    }
   ],
   "source": [
    "# multiply and add numbers\n",
    "\n",
    "10+2*6"
   ]
  },
  {
   "cell_type": "code",
   "execution_count": 9,
   "metadata": {},
   "outputs": [
    {
     "name": "stdout",
     "output_type": "stream",
     "text": [
      "21.5 hours.\n"
     ]
    }
   ],
   "source": [
    "# Convertin 1290 min to hrs by dividing by 60.\n",
    "total_min = 1290\n",
    "min = total_min / 60\n",
    "print(f'{min} hours.')"
   ]
  },
  {
   "cell_type": "markdown",
   "metadata": {},
   "source": [
    "#### Objectives:\n",
    "\n",
    "- List popular languages that Data Scientists use.\n",
    "- List commonly used libraries used by Data Scientists.\n",
    "- List Data Science tools."
   ]
  },
  {
   "cell_type": "markdown",
   "metadata": {},
   "source": [
    "# Author\n",
    "Raghad Alamoudi"
   ]
  },
  {
   "cell_type": "code",
   "execution_count": null,
   "metadata": {},
   "outputs": [],
   "source": []
  }
 ],
 "metadata": {
  "kernelspec": {
   "display_name": "Python",
   "language": "python",
   "name": "conda-env-python-py"
  },
  "language_info": {
   "codemirror_mode": {
    "name": "ipython",
    "version": 3
   },
   "file_extension": ".py",
   "mimetype": "text/x-python",
   "name": "python",
   "nbconvert_exporter": "python",
   "pygments_lexer": "ipython3",
   "version": "3.7.12"
  }
 },
 "nbformat": 4,
 "nbformat_minor": 4
}
